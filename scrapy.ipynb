{
 "cells": [
  {
   "cell_type": "code",
   "execution_count": 1,
   "id": "9ec4c0b6-6b6f-4991-9a77-552d0c5a3f9d",
   "metadata": {},
   "outputs": [],
   "source": [
    "import re\n",
    "from bs4 import BeautifulSoup\n",
    "import requests"
   ]
  },
  {
   "cell_type": "code",
   "execution_count": 2,
   "id": "11ee5394-c398-4042-9598-ec2d74ceee26",
   "metadata": {},
   "outputs": [],
   "source": [
    "url = 'https://www.pararius.com/apartments/amsterdam/district-ijburg'"
   ]
  },
  {
   "cell_type": "code",
   "execution_count": 3,
   "id": "9b27510c-4a42-4ff0-b388-04e180681926",
   "metadata": {},
   "outputs": [],
   "source": [
    "def get_soup(url):\n",
    "    page = requests.get(url).text\n",
    "    soup = BeautifulSoup(str(page), 'html.parser')\n",
    "    return soup\n",
    "\n",
    "def get_item_urls(url):\n",
    "    soup = get_soup(url)\n",
    "    links = soup.find_all('a', class_ = 'listing-search-item__link listing-search-item__link--title')\n",
    "    links = [''.join('https://www.pararius.com' + link['href']) for link in links]\n",
    "    return links"
   ]
  },
  {
   "cell_type": "code",
   "execution_count": 4,
   "id": "24e7320b-6dce-4ece-bb08-b56d6f05ecac",
   "metadata": {},
   "outputs": [],
   "source": [
    "items = get_item_urls('https://www.pararius.com/apartments/amsterdam/district-ijburg')"
   ]
  },
  {
   "cell_type": "code",
   "execution_count": 5,
   "id": "817a74af-b247-4385-9e87-bdd3da33720e",
   "metadata": {},
   "outputs": [],
   "source": [
    "# soup = get_soup(items[0])"
   ]
  },
  {
   "cell_type": "code",
   "execution_count": 6,
   "id": "b760c319-91d2-4e98-be5b-e976324fe0ca",
   "metadata": {},
   "outputs": [],
   "source": [
    "def get_soup(url):\n",
    "    page = requests.get(url).text\n",
    "    soup = BeautifulSoup(str(page), 'html.parser')\n",
    "    return soup\n",
    "\n",
    "def get_item_urls(url):\n",
    "    soup = get_soup(url)\n",
    "    links = soup.find_all('a', class_ = 'listing-search-item__link listing-search-item__link--title')\n",
    "    links = [''.join('https://www.pararius.com' + link['href']) for link in links]\n",
    "    return links\n",
    "\n",
    "def get_price(soup):\n",
    "    price = soup.find('dd',class_=\"listing-features__description listing-features__description--for_rent_price\").get_text().split()[0]\n",
    "    return price\n",
    "\n",
    "def get_offerd_since(soup):\n",
    "    offered_since = soup.find('dd' ,class_=\"listing-features__description listing-features__description--offered_since\")\n",
    "    if offered_since:\n",
    "        offered_since = offered_since.get_text()\n",
    "    else:\n",
    "        offered_since = \"Not Avalliable\"\n",
    "    return offered_since\n",
    "\n",
    "def get_status(soup):\n",
    "    status = soup.find('dd' ,class_=\"listing-features__description listing-features__description--status\")\n",
    "    if status:\n",
    "        status = status.get_text()\n",
    "    else:\n",
    "        status = \"Not Avalliable\"\n",
    "    return status\n",
    "\n",
    "def get_acceptance(soup):\n",
    "    acceptance = soup.find('dd' ,class_=\"listing-features__description listing-features__description--acceptance\")\n",
    "    if acceptance:\n",
    "        acceptance = acceptance.get_text()\n",
    "    else:\n",
    "        acceptance = \"Not Avalliable\"\n",
    "    return acceptance\n",
    "\n",
    "def get_deposit(soup):\n",
    "    deposit = soup.find('dd' ,class_=\"listing-features__description listing-features__description--deposit\")\n",
    "    if deposit: \n",
    "        deposit = deposit.get_text()\n",
    "    else:\n",
    "        deposit = \"Not Avalliable\"\n",
    "    return deposit\n",
    "\n",
    "def get_interior_descripition(soup):\n",
    "    interior_descripition = soup.find('dd' ,class_=\"listing-features__description listing-features__description--interior\")\n",
    "    if interior_descripition: \n",
    "        interior_descripition = interior_descripition.get_text()\n",
    "    else:\n",
    "        interior_descripition = \"Not Avalliable\"\n",
    "    return interior_descripition\n",
    "\n",
    "def get_upkeep_descripition(soup):\n",
    "    upkeep_descripition = soup.find('dd' ,class_=\"listing-features__description listing-features__description--upkeep\")\n",
    "    if upkeep_descripition: \n",
    "        upkeep_descripition = upkeep_descripition.get_text()\n",
    "    else:\n",
    "        upkeep_descripition = \"Not Avalliable\"\n",
    "    return upkeep_descripition\n",
    "\n",
    "def get_living_area(soup):\n",
    "    living_area = soup.find('dd' ,class_=\"listing-features__description listing-features__description--surface_area\")\n",
    "    if living_area: \n",
    "        living_area = living_area.get_text()\n",
    "    else:\n",
    "        living_area = \"Not Avalliable\"\n",
    "    return living_area\n",
    "\n",
    "def get_address(soup):\n",
    "    address = soup.find('div' ,class_=\"listing-detail-summary__location\")\n",
    "    if address: \n",
    "        address = address.get_text()\n",
    "    else:\n",
    "        address = \"Not Avalliable\"\n",
    "    return address\n",
    "\n",
    "def get_rooms_number(soup):\n",
    "    rooms_numbers = soup.find('dd' ,class_=\"listing-features__description listing-features__description--number_of_rooms\")\n",
    "    if rooms_numbers: \n",
    "        rooms_numbers = rooms_numbers.get_text()\n",
    "    else:\n",
    "        rooms_numbers = \"Not Avalliable\"\n",
    "    return rooms_numbers\n",
    "\n",
    "def get_bedrooms_number(soup):\n",
    "    bedrooms_numbers = soup.find('dd' ,class_=\"listing-features__description listing-features__description--number_of_bedrooms\")\n",
    "    if bedrooms_numbers: \n",
    "        bedrooms_numbers = bedrooms_numbers.get_text()\n",
    "    else:\n",
    "        bedrooms_numbers = \"Not Avalliable\"\n",
    "    return bedrooms_numbers\n",
    "\n",
    "def get_bathrooms_number(soup):\n",
    "    bathrooms_numbers = soup.find('dd' ,class_=\"listing-features__description listing-features__description--number_of_bathrooms\")\n",
    "    if bathrooms_numbers: \n",
    "        bathrooms_numbers = bathrooms_numbers.get_text()\n",
    "    else:\n",
    "        bathrooms_numbers = \"Not Avalliable\"\n",
    "    return bathrooms_numbers\n",
    "\n",
    "def get_facilities(soup):\n",
    "    facilities = soup.find('dd' ,class_=\"listing-features__description listing-features__description--facilities\")\n",
    "    if facilities: \n",
    "        facilities = facilities.get_text()\n",
    "    else:\n",
    "        facilities = \"Not Avalliable\"\n",
    "    return facilities\n",
    "\n",
    "def get_dwelling_type(soup):\n",
    "    dwelling_type = soup.find('dd' ,class_=\"listing-features__description listing-features__description--dwelling_type\")\n",
    "    if dwelling_type: \n",
    "        dwelling_type = dwelling_type.get_text()\n",
    "    else:\n",
    "        dwelling_type = \"Not Avalliable\"\n",
    "    return dwelling_type\n",
    "\n",
    "def get_property_types(soup):\n",
    "    property_types = soup.find('dd' ,class_=\"listing-features__description listing-features__description--property_types\")\n",
    "    if property_types: \n",
    "        property_types = property_types.get_text()\n",
    "    else:\n",
    "        property_types = \"Not Avalliable\"\n",
    "    return property_types\n",
    "\n",
    "def get_construction_type(soup):\n",
    "    construction_type = soup.find('dd' ,class_=\"listing-features__description listing-features__description--construction_type\")\n",
    "    if construction_type: \n",
    "        construction_type = construction_type.get_text()\n",
    "    else:\n",
    "        construction_type = \"Not Avalliable\"\n",
    "    return construction_type\n",
    "\n",
    "def get_construction_period(soup):\n",
    "    construction_period = soup.find('dd' ,class_=\"listing-features__description listing-features__description--construction_period\")\n",
    "    if construction_period: \n",
    "        construction_period = construction_period.get_text()\n",
    "    else:\n",
    "        construction_period = \"Not Avalliable\"\n",
    "    return construction_period\n",
    "\n",
    "def lat_lon_regex(datail_map_div):\n",
    "    lat_lon_regex = r'<div class=\"detail-map map\" data-controller=\"detail-map\" data-detail-map-latitude=\"(?P<Lat>\\d{0,5}.\\d{0,5})\" data-detail-map-longitude=\"(?P<Lon>\\d{0,5}.\\d{0,5})\" data-detail-map-type=\"listing\">'\n",
    "    lat_lon = re.compile(lat_lon_regex)\n",
    "    match = lat_lon.match(datail_map_div)\n",
    "    if match:\n",
    "        groups = match.groupdict()\n",
    "        lat = groups['Lat']\n",
    "        lon = groups['Lon']\n",
    "        point = f'SRID=4326; Point({lon},{lat})'\n",
    "    return point\n",
    "\n",
    "def get_map_point(soup):\n",
    "    datail_map_div = str(soup.find('div' ,class_=\"detail-map map\"))\n",
    "    point = lat_lon_regex(datail_map_div)\n",
    "    return point"
   ]
  },
  {
   "cell_type": "code",
   "execution_count": 7,
   "id": "249c4733-4f09-4f28-9907-cdd148bcb216",
   "metadata": {},
   "outputs": [],
   "source": [
    "def get_transfer_data(soup,url):\n",
    "    address = get_address(soup)\n",
    "    price = get_price(soup)\n",
    "    living_area = get_living_area(soup)\n",
    "    offerd_since = get_offerd_since(soup)\n",
    "    status = get_status(soup)\n",
    "    acceptance = get_acceptance(soup)\n",
    "    deposit = get_deposit(soup)\n",
    "    interior_descripition = get_interior_descripition(soup)\n",
    "    upkeep_descripition = get_upkeep_descripition(soup)\n",
    "    rooms_number = get_rooms_number(soup)\n",
    "    bedrooms_number = get_bedrooms_number(soup)\n",
    "    bathrooms_number = get_bathrooms_number(soup)\n",
    "    facilities = get_facilities(soup)\n",
    "    dwelling_type = get_dwelling_type(soup)\n",
    "    property_types = get_property_types(soup)\n",
    "    construction_type = get_construction_type(soup)\n",
    "    construction_period = get_construction_period(soup)\n",
    "    point = get_map_point(soup)\n",
    "    \n",
    "    transfer_data = {\n",
    "        \"url\" : url,\n",
    "        \"address\" : address,\n",
    "        \"point\" : point,\n",
    "        \"price\" : price,\n",
    "        \"living_area\" : living_area,\n",
    "        \"rooms_number\" : rooms_number,\n",
    "        \"bedrooms_number\" : bedrooms_number,\n",
    "        \"bathrooms_number\" : bathrooms_number,\n",
    "        \"facilities\" : facilities,\n",
    "        \"offerd_since\" : offerd_since,\n",
    "        \"status\" : status,\n",
    "        \"acceptance\" : acceptance,\n",
    "        \"deposit\" : deposit,\n",
    "        \"interior_descripition\" : interior_descripition,\n",
    "        \"upkeep_descripition\" : upkeep_descripition,\n",
    "        \"dwelling_type\" : dwelling_type,\n",
    "        \"property_types\" : property_types,\n",
    "        \"construction_type\" : construction_type,\n",
    "        \"construction_period\" : construction_period,\n",
    "        \n",
    "                    }\n",
    "    return transfer_data"
   ]
  },
  {
   "cell_type": "code",
   "execution_count": 8,
   "id": "63f79913-238e-4f73-a810-1cc2846411d5",
   "metadata": {},
   "outputs": [],
   "source": [
    "data = [] \n",
    "for item in items:\n",
    "    soup = get_soup(item)\n",
    "    data.append(get_transfer_data(soup,item))"
   ]
  },
  {
   "cell_type": "code",
   "execution_count": 9,
   "id": "e88c9a57-3d7d-42d4-8142-09cc25914d6c",
   "metadata": {},
   "outputs": [],
   "source": [
    "import pandas as pd"
   ]
  },
  {
   "cell_type": "code",
   "execution_count": 10,
   "id": "89a5f974-96c9-443d-8413-95945e1e9989",
   "metadata": {},
   "outputs": [],
   "source": [
    "df = pd.DataFrame(data)"
   ]
  },
  {
   "cell_type": "code",
   "execution_count": 11,
   "id": "a319cdb0-ff44-41b1-82cf-c96b9b63b869",
   "metadata": {},
   "outputs": [],
   "source": [
    "import folium\n",
    "from folium.plugins import HeatMap"
   ]
  },
  {
   "cell_type": "code",
   "execution_count": 21,
   "id": "a0d0a085-a6a4-47af-8b9f-792d23884376",
   "metadata": {},
   "outputs": [],
   "source": [
    "52.35557577106819, 4.997949639006317\n",
    "startingLocation = [52.36,4.97] # EDIT THIS WITH YOUR CITIES GPS COORDINATES!\n",
    "hmap = folium.Map(location=startingLocation, zoom_start=15)"
   ]
  },
  {
   "cell_type": "code",
   "execution_count": 22,
   "id": "5a7b3d10-86ff-4f54-a056-78d420837d2a",
   "metadata": {},
   "outputs": [],
   "source": [
    "points = [i.split()[1].replace('Point(','').replace(')','').split(',') for i in df['point']]\n",
    "new_points = [[float(i[1]),float(i[0])] for i in points]\n",
    "hm_wide = HeatMap(new_points)"
   ]
  },
  {
   "cell_type": "code",
   "execution_count": 23,
   "id": "28c4b9c6-aebb-448c-a6ba-bd4d7655b13a",
   "metadata": {},
   "outputs": [
    {
     "data": {
      "text/html": [
       "<div style=\"width:100%;\"><div style=\"position:relative;width:100%;height:0;padding-bottom:60%;\"><span style=\"color:#565656\">Make this Notebook Trusted to load map: File -> Trust Notebook</span><iframe src=\"about:blank\" style=\"position:absolute;width:100%;height:100%;left:0;top:0;border:none !important;\" data-html=%3C%21DOCTYPE%20html%3E%0A%3Chead%3E%20%20%20%20%0A%20%20%20%20%3Cmeta%20http-equiv%3D%22content-type%22%20content%3D%22text/html%3B%20charset%3DUTF-8%22%20/%3E%0A%20%20%20%20%0A%20%20%20%20%20%20%20%20%3Cscript%3E%0A%20%20%20%20%20%20%20%20%20%20%20%20L_NO_TOUCH%20%3D%20false%3B%0A%20%20%20%20%20%20%20%20%20%20%20%20L_DISABLE_3D%20%3D%20false%3B%0A%20%20%20%20%20%20%20%20%3C/script%3E%0A%20%20%20%20%0A%20%20%20%20%3Cstyle%3Ehtml%2C%20body%20%7Bwidth%3A%20100%25%3Bheight%3A%20100%25%3Bmargin%3A%200%3Bpadding%3A%200%3B%7D%3C/style%3E%0A%20%20%20%20%3Cstyle%3E%23map%20%7Bposition%3Aabsolute%3Btop%3A0%3Bbottom%3A0%3Bright%3A0%3Bleft%3A0%3B%7D%3C/style%3E%0A%20%20%20%20%3Cscript%20src%3D%22https%3A//cdn.jsdelivr.net/npm/leaflet%401.6.0/dist/leaflet.js%22%3E%3C/script%3E%0A%20%20%20%20%3Cscript%20src%3D%22https%3A//code.jquery.com/jquery-1.12.4.min.js%22%3E%3C/script%3E%0A%20%20%20%20%3Cscript%20src%3D%22https%3A//maxcdn.bootstrapcdn.com/bootstrap/3.2.0/js/bootstrap.min.js%22%3E%3C/script%3E%0A%20%20%20%20%3Cscript%20src%3D%22https%3A//cdnjs.cloudflare.com/ajax/libs/Leaflet.awesome-markers/2.0.2/leaflet.awesome-markers.js%22%3E%3C/script%3E%0A%20%20%20%20%3Clink%20rel%3D%22stylesheet%22%20href%3D%22https%3A//cdn.jsdelivr.net/npm/leaflet%401.6.0/dist/leaflet.css%22/%3E%0A%20%20%20%20%3Clink%20rel%3D%22stylesheet%22%20href%3D%22https%3A//maxcdn.bootstrapcdn.com/bootstrap/3.2.0/css/bootstrap.min.css%22/%3E%0A%20%20%20%20%3Clink%20rel%3D%22stylesheet%22%20href%3D%22https%3A//maxcdn.bootstrapcdn.com/bootstrap/3.2.0/css/bootstrap-theme.min.css%22/%3E%0A%20%20%20%20%3Clink%20rel%3D%22stylesheet%22%20href%3D%22https%3A//maxcdn.bootstrapcdn.com/font-awesome/4.6.3/css/font-awesome.min.css%22/%3E%0A%20%20%20%20%3Clink%20rel%3D%22stylesheet%22%20href%3D%22https%3A//cdnjs.cloudflare.com/ajax/libs/Leaflet.awesome-markers/2.0.2/leaflet.awesome-markers.css%22/%3E%0A%20%20%20%20%3Clink%20rel%3D%22stylesheet%22%20href%3D%22https%3A//cdn.jsdelivr.net/gh/python-visualization/folium/folium/templates/leaflet.awesome.rotate.min.css%22/%3E%0A%20%20%20%20%0A%20%20%20%20%20%20%20%20%20%20%20%20%3Cmeta%20name%3D%22viewport%22%20content%3D%22width%3Ddevice-width%2C%0A%20%20%20%20%20%20%20%20%20%20%20%20%20%20%20%20initial-scale%3D1.0%2C%20maximum-scale%3D1.0%2C%20user-scalable%3Dno%22%20/%3E%0A%20%20%20%20%20%20%20%20%20%20%20%20%3Cstyle%3E%0A%20%20%20%20%20%20%20%20%20%20%20%20%20%20%20%20%23map_cedf0a27c3674adf914d0ea57c9c6124%20%7B%0A%20%20%20%20%20%20%20%20%20%20%20%20%20%20%20%20%20%20%20%20position%3A%20relative%3B%0A%20%20%20%20%20%20%20%20%20%20%20%20%20%20%20%20%20%20%20%20width%3A%20100.0%25%3B%0A%20%20%20%20%20%20%20%20%20%20%20%20%20%20%20%20%20%20%20%20height%3A%20100.0%25%3B%0A%20%20%20%20%20%20%20%20%20%20%20%20%20%20%20%20%20%20%20%20left%3A%200.0%25%3B%0A%20%20%20%20%20%20%20%20%20%20%20%20%20%20%20%20%20%20%20%20top%3A%200.0%25%3B%0A%20%20%20%20%20%20%20%20%20%20%20%20%20%20%20%20%7D%0A%20%20%20%20%20%20%20%20%20%20%20%20%3C/style%3E%0A%20%20%20%20%20%20%20%20%0A%20%20%20%20%3Cscript%20src%3D%22https%3A//cdn.jsdelivr.net/gh/python-visualization/folium%40master/folium/templates/leaflet_heat.min.js%22%3E%3C/script%3E%0A%3C/head%3E%0A%3Cbody%3E%20%20%20%20%0A%20%20%20%20%0A%20%20%20%20%20%20%20%20%20%20%20%20%3Cdiv%20class%3D%22folium-map%22%20id%3D%22map_cedf0a27c3674adf914d0ea57c9c6124%22%20%3E%3C/div%3E%0A%20%20%20%20%20%20%20%20%0A%3C/body%3E%0A%3Cscript%3E%20%20%20%20%0A%20%20%20%20%0A%20%20%20%20%20%20%20%20%20%20%20%20var%20map_cedf0a27c3674adf914d0ea57c9c6124%20%3D%20L.map%28%0A%20%20%20%20%20%20%20%20%20%20%20%20%20%20%20%20%22map_cedf0a27c3674adf914d0ea57c9c6124%22%2C%0A%20%20%20%20%20%20%20%20%20%20%20%20%20%20%20%20%7B%0A%20%20%20%20%20%20%20%20%20%20%20%20%20%20%20%20%20%20%20%20center%3A%20%5B52.36%2C%204.97%5D%2C%0A%20%20%20%20%20%20%20%20%20%20%20%20%20%20%20%20%20%20%20%20crs%3A%20L.CRS.EPSG3857%2C%0A%20%20%20%20%20%20%20%20%20%20%20%20%20%20%20%20%20%20%20%20zoom%3A%2015%2C%0A%20%20%20%20%20%20%20%20%20%20%20%20%20%20%20%20%20%20%20%20zoomControl%3A%20true%2C%0A%20%20%20%20%20%20%20%20%20%20%20%20%20%20%20%20%20%20%20%20preferCanvas%3A%20false%2C%0A%20%20%20%20%20%20%20%20%20%20%20%20%20%20%20%20%7D%0A%20%20%20%20%20%20%20%20%20%20%20%20%29%3B%0A%0A%20%20%20%20%20%20%20%20%20%20%20%20%0A%0A%20%20%20%20%20%20%20%20%0A%20%20%20%20%0A%20%20%20%20%20%20%20%20%20%20%20%20var%20tile_layer_4e5fdb738adf4d10bd70127ca3200609%20%3D%20L.tileLayer%28%0A%20%20%20%20%20%20%20%20%20%20%20%20%20%20%20%20%22https%3A//%7Bs%7D.tile.openstreetmap.org/%7Bz%7D/%7Bx%7D/%7By%7D.png%22%2C%0A%20%20%20%20%20%20%20%20%20%20%20%20%20%20%20%20%7B%22attribution%22%3A%20%22Data%20by%20%5Cu0026copy%3B%20%5Cu003ca%20href%3D%5C%22http%3A//openstreetmap.org%5C%22%5Cu003eOpenStreetMap%5Cu003c/a%5Cu003e%2C%20under%20%5Cu003ca%20href%3D%5C%22http%3A//www.openstreetmap.org/copyright%5C%22%5Cu003eODbL%5Cu003c/a%5Cu003e.%22%2C%20%22detectRetina%22%3A%20false%2C%20%22maxNativeZoom%22%3A%2018%2C%20%22maxZoom%22%3A%2018%2C%20%22minZoom%22%3A%200%2C%20%22noWrap%22%3A%20false%2C%20%22opacity%22%3A%201%2C%20%22subdomains%22%3A%20%22abc%22%2C%20%22tms%22%3A%20false%7D%0A%20%20%20%20%20%20%20%20%20%20%20%20%29.addTo%28map_cedf0a27c3674adf914d0ea57c9c6124%29%3B%0A%20%20%20%20%20%20%20%20%0A%20%20%20%20%0A%20%20%20%20%20%20%20%20%20%20%20%20var%20heat_map_2c04cfed7fea4bba9bd3f0c6cac4d06d%20%3D%20L.heatLayer%28%0A%20%20%20%20%20%20%20%20%20%20%20%20%20%20%20%20%5B%5B52.36201%2C%204.97852%5D%2C%20%5B52.35431%2C%205.00237%5D%2C%20%5B52.34765%2C%205.00726%5D%2C%20%5B52.36176%2C%204.97791%5D%2C%20%5B52.36176%2C%204.97791%5D%2C%20%5B52.35633%2C%204.99252%5D%2C%20%5B52.35633%2C%204.99252%5D%2C%20%5B52.35366%2C%204.99743%5D%2C%20%5B52.36024%2C%204.9897%5D%2C%20%5B52.36431%2C%204.9864%5D%2C%20%5B52.36149%2C%204.97788%5D%2C%20%5B52.35981%2C%204.99522%5D%2C%20%5B52.35203%2C%205.00207%5D%2C%20%5B52.34624%2C%205.00988%5D%2C%20%5B52.35191%2C%205.00477%5D%2C%20%5B52.35604%2C%204.99917%5D%2C%20%5B52.36141%2C%204.97634%5D%2C%20%5B52.36114%2C%204.99187%5D%2C%20%5B52.36052%2C%204.99326%5D%2C%20%5B52.36309%2C%204.97953%5D%2C%20%5B52.35604%2C%204.99917%5D%2C%20%5B52.3507%2C%205.00845%5D%2C%20%5B52.34666%2C%205.00745%5D%2C%20%5B52.35633%2C%204.99252%5D%2C%20%5B52.35527%2C%204.99241%5D%2C%20%5B52.35731%2C%204.99194%5D%2C%20%5B52.35148%2C%205.00705%5D%2C%20%5B52.34667%2C%205.01074%5D%2C%20%5B52.36362%2C%204.98895%5D%2C%20%5B52.35844%2C%204.99102%5D%5D%2C%0A%20%20%20%20%20%20%20%20%20%20%20%20%20%20%20%20%7B%22blur%22%3A%2015%2C%20%22maxZoom%22%3A%2018%2C%20%22minOpacity%22%3A%200.5%2C%20%22radius%22%3A%2025%7D%0A%20%20%20%20%20%20%20%20%20%20%20%20%29.addTo%28map_cedf0a27c3674adf914d0ea57c9c6124%29%3B%0A%20%20%20%20%20%20%20%20%0A%3C/script%3E onload=\"this.contentDocument.open();this.contentDocument.write(    decodeURIComponent(this.getAttribute('data-html')));this.contentDocument.close();\" allowfullscreen webkitallowfullscreen mozallowfullscreen></iframe></div></div>"
      ],
      "text/plain": [
       "<folium.folium.Map at 0x7f02138459a0>"
      ]
     },
     "execution_count": 23,
     "metadata": {},
     "output_type": "execute_result"
    }
   ],
   "source": [
    "hmap.add_child(hm_wide)"
   ]
  },
  {
   "cell_type": "code",
   "execution_count": null,
   "id": "ac070816-4151-412c-9dd8-3f8093e2bb93",
   "metadata": {},
   "outputs": [],
   "source": []
  },
  {
   "cell_type": "code",
   "execution_count": null,
   "id": "fc77940e-b5c9-4bc8-8dd9-435534ffa78c",
   "metadata": {},
   "outputs": [],
   "source": []
  }
 ],
 "metadata": {
  "kernelspec": {
   "display_name": "Python 3",
   "language": "python",
   "name": "python3"
  },
  "language_info": {
   "codemirror_mode": {
    "name": "ipython",
    "version": 3
   },
   "file_extension": ".py",
   "mimetype": "text/x-python",
   "name": "python",
   "nbconvert_exporter": "python",
   "pygments_lexer": "ipython3",
   "version": "3.9.5"
  }
 },
 "nbformat": 4,
 "nbformat_minor": 5
}
